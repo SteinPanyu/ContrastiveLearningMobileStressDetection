{
 "cells": [
  {
   "cell_type": "markdown",
   "metadata": {},
   "source": [
    "# Segment the time series into 1 minute sequences for each user"
   ]
  },
  {
   "cell_type": "code",
   "execution_count": 1,
   "metadata": {},
   "outputs": [],
   "source": [
    "from Funcs.Utility import *\n",
    "import numpy as np\n",
    "import pandas as pd\n",
    "from typing import Dict, Callable, Union, Tuple, List, Optional, Iterable\n",
    "from datetime import timedelta as td\n",
    "from scipy import stats\n",
    "import ray\n",
    "import warnings\n",
    "import time"
   ]
  },
  {
   "cell_type": "code",
   "execution_count": 2,
   "metadata": {},
   "outputs": [],
   "source": [
    "def _safe_na_check(_v):\n",
    "    _is_nan_inf = False\n",
    "    \n",
    "    try:\n",
    "        _is_nan_inf = np.isnan(_v) or np.isinf(_v)\n",
    "    except:\n",
    "        _is_nan_inf = False\n",
    "    \n",
    "    return _is_nan_inf or _v is None"
   ]
  },
  {
   "cell_type": "code",
   "execution_count": 3,
   "metadata": {},
   "outputs": [],
   "source": [
    "import os\n",
    "import cloudpickle\n",
    "\n",
    "DATA = load(os.path.join(PATH_INTERMEDIATE, 'proc.pkl'))\n",
    "LABELS_PROC = pd.read_csv(os.path.join(PATH_INTERMEDIATE, 'proc', 'LABELS_PROC.csv'), index_col=['pcode','timestamp'],parse_dates=True)"
   ]
  },
  {
   "cell_type": "code",
   "execution_count": null,
   "metadata": {},
   "outputs": [
    {
     "name": "stderr",
     "output_type": "stream",
     "text": [
      "2023-12-02 22:10:43,880\tINFO worker.py:1431 -- Connecting to existing Ray cluster at address: 143.248.57.77:6379...\n",
      "2023-12-02 22:10:43,884\tINFO worker.py:1612 -- Connected to Ray cluster. View the dashboard at \u001b[1m\u001b[32m127.0.0.1:8265 \u001b[39m\u001b[22m\n"
     ]
    },
    {
     "ename": "KeyboardInterrupt",
     "evalue": "",
     "output_type": "error",
     "traceback": [
      "\u001b[0;31m---------------------------------------------------------------------------\u001b[0m",
      "\u001b[0;31mKeyboardInterrupt\u001b[0m                         Traceback (most recent call last)",
      "\u001b[1;32m/var/nfs_share/ContrastiveLearningMobileStressDetection/SequenceLabeling.ipynb Cell 5\u001b[0m line \u001b[0;36m6\n\u001b[1;32m     <a href='vscode-notebook-cell://ssh-remote%2Bt7.iclab.dev/var/nfs_share/ContrastiveLearningMobileStressDetection/SequenceLabeling.ipynb#W5sdnNjb2RlLXJlbW90ZQ%3D%3D?line=57'>58</a>\u001b[0m segmented_data \u001b[39m=\u001b[39m []\n\u001b[1;32m     <a href='vscode-notebook-cell://ssh-remote%2Bt7.iclab.dev/var/nfs_share/ContrastiveLearningMobileStressDetection/SequenceLabeling.ipynb#W5sdnNjb2RlLXJlbW90ZQ%3D%3D?line=58'>59</a>\u001b[0m \u001b[39mfor\u001b[39;00m sensor_type, sensor_data \u001b[39min\u001b[39;00m DATA\u001b[39m.\u001b[39mitems():\n\u001b[0;32m---> <a href='vscode-notebook-cell://ssh-remote%2Bt7.iclab.dev/var/nfs_share/ContrastiveLearningMobileStressDetection/SequenceLabeling.ipynb#W5sdnNjb2RlLXJlbW90ZQ%3D%3D?line=59'>60</a>\u001b[0m     segmented_data\u001b[39m.\u001b[39mextend(ray\u001b[39m.\u001b[39mget([segment_data\u001b[39m.\u001b[39mremote(pcode, sensor_data, LABELS_PROC) \n\u001b[1;32m     <a href='vscode-notebook-cell://ssh-remote%2Bt7.iclab.dev/var/nfs_share/ContrastiveLearningMobileStressDetection/SequenceLabeling.ipynb#W5sdnNjb2RlLXJlbW90ZQ%3D%3D?line=60'>61</a>\u001b[0m                                 \u001b[39mfor\u001b[39;00m pcode \u001b[39min\u001b[39;00m LABELS_PROC\u001b[39m.\u001b[39mindex\u001b[39m.\u001b[39mget_level_values(\u001b[39m'\u001b[39m\u001b[39mpcode\u001b[39m\u001b[39m'\u001b[39m)\u001b[39m.\u001b[39munique()]))\n\u001b[1;32m     <a href='vscode-notebook-cell://ssh-remote%2Bt7.iclab.dev/var/nfs_share/ContrastiveLearningMobileStressDetection/SequenceLabeling.ipynb#W5sdnNjb2RlLXJlbW90ZQ%3D%3D?line=62'>63</a>\u001b[0m \u001b[39m# Gathering labeled and unlabeled sequences\u001b[39;00m\n\u001b[1;32m     <a href='vscode-notebook-cell://ssh-remote%2Bt7.iclab.dev/var/nfs_share/ContrastiveLearningMobileStressDetection/SequenceLabeling.ipynb#W5sdnNjb2RlLXJlbW90ZQ%3D%3D?line=63'>64</a>\u001b[0m labeled_sequences \u001b[39m=\u001b[39m [(sequences, label) \u001b[39mfor\u001b[39;00m labeled_sequences, _ \u001b[39min\u001b[39;00m segmented_data \u001b[39mfor\u001b[39;00m sequences, label \u001b[39min\u001b[39;00m labeled_sequences]\n",
      "\u001b[1;32m/var/nfs_share/ContrastiveLearningMobileStressDetection/SequenceLabeling.ipynb Cell 5\u001b[0m line \u001b[0;36m6\n\u001b[1;32m     <a href='vscode-notebook-cell://ssh-remote%2Bt7.iclab.dev/var/nfs_share/ContrastiveLearningMobileStressDetection/SequenceLabeling.ipynb#W5sdnNjb2RlLXJlbW90ZQ%3D%3D?line=57'>58</a>\u001b[0m segmented_data \u001b[39m=\u001b[39m []\n\u001b[1;32m     <a href='vscode-notebook-cell://ssh-remote%2Bt7.iclab.dev/var/nfs_share/ContrastiveLearningMobileStressDetection/SequenceLabeling.ipynb#W5sdnNjb2RlLXJlbW90ZQ%3D%3D?line=58'>59</a>\u001b[0m \u001b[39mfor\u001b[39;00m sensor_type, sensor_data \u001b[39min\u001b[39;00m DATA\u001b[39m.\u001b[39mitems():\n\u001b[0;32m---> <a href='vscode-notebook-cell://ssh-remote%2Bt7.iclab.dev/var/nfs_share/ContrastiveLearningMobileStressDetection/SequenceLabeling.ipynb#W5sdnNjb2RlLXJlbW90ZQ%3D%3D?line=59'>60</a>\u001b[0m     segmented_data\u001b[39m.\u001b[39mextend(ray\u001b[39m.\u001b[39mget([segment_data\u001b[39m.\u001b[39;49mremote(pcode, sensor_data, LABELS_PROC) \n\u001b[1;32m     <a href='vscode-notebook-cell://ssh-remote%2Bt7.iclab.dev/var/nfs_share/ContrastiveLearningMobileStressDetection/SequenceLabeling.ipynb#W5sdnNjb2RlLXJlbW90ZQ%3D%3D?line=60'>61</a>\u001b[0m                                 \u001b[39mfor\u001b[39;00m pcode \u001b[39min\u001b[39;00m LABELS_PROC\u001b[39m.\u001b[39mindex\u001b[39m.\u001b[39mget_level_values(\u001b[39m'\u001b[39m\u001b[39mpcode\u001b[39m\u001b[39m'\u001b[39m)\u001b[39m.\u001b[39munique()]))\n\u001b[1;32m     <a href='vscode-notebook-cell://ssh-remote%2Bt7.iclab.dev/var/nfs_share/ContrastiveLearningMobileStressDetection/SequenceLabeling.ipynb#W5sdnNjb2RlLXJlbW90ZQ%3D%3D?line=62'>63</a>\u001b[0m \u001b[39m# Gathering labeled and unlabeled sequences\u001b[39;00m\n\u001b[1;32m     <a href='vscode-notebook-cell://ssh-remote%2Bt7.iclab.dev/var/nfs_share/ContrastiveLearningMobileStressDetection/SequenceLabeling.ipynb#W5sdnNjb2RlLXJlbW90ZQ%3D%3D?line=63'>64</a>\u001b[0m labeled_sequences \u001b[39m=\u001b[39m [(sequences, label) \u001b[39mfor\u001b[39;00m labeled_sequences, _ \u001b[39min\u001b[39;00m segmented_data \u001b[39mfor\u001b[39;00m sequences, label \u001b[39min\u001b[39;00m labeled_sequences]\n",
      "File \u001b[0;32m~/miniconda/envs/sci-data/lib/python3.9/site-packages/ray/remote_function.py:133\u001b[0m, in \u001b[0;36mRemoteFunction.__init__.<locals>._remote_proxy\u001b[0;34m(*args, **kwargs)\u001b[0m\n\u001b[1;32m    131\u001b[0m \u001b[39m@wraps\u001b[39m(function)\n\u001b[1;32m    132\u001b[0m \u001b[39mdef\u001b[39;00m \u001b[39m_remote_proxy\u001b[39m(\u001b[39m*\u001b[39margs, \u001b[39m*\u001b[39m\u001b[39m*\u001b[39mkwargs):\n\u001b[0;32m--> 133\u001b[0m     \u001b[39mreturn\u001b[39;00m \u001b[39mself\u001b[39;49m\u001b[39m.\u001b[39;49m_remote(args\u001b[39m=\u001b[39;49margs, kwargs\u001b[39m=\u001b[39;49mkwargs, \u001b[39m*\u001b[39;49m\u001b[39m*\u001b[39;49m\u001b[39mself\u001b[39;49m\u001b[39m.\u001b[39;49m_default_options)\n",
      "File \u001b[0;32m~/miniconda/envs/sci-data/lib/python3.9/site-packages/ray/util/tracing/tracing_helper.py:306\u001b[0m, in \u001b[0;36m_tracing_task_invocation.<locals>._invocation_remote_span\u001b[0;34m(self, args, kwargs, *_args, **_kwargs)\u001b[0m\n\u001b[1;32m    304\u001b[0m     \u001b[39mif\u001b[39;00m kwargs \u001b[39mis\u001b[39;00m \u001b[39mnot\u001b[39;00m \u001b[39mNone\u001b[39;00m:\n\u001b[1;32m    305\u001b[0m         \u001b[39massert\u001b[39;00m \u001b[39m\"\u001b[39m\u001b[39m_ray_trace_ctx\u001b[39m\u001b[39m\"\u001b[39m \u001b[39mnot\u001b[39;00m \u001b[39min\u001b[39;00m kwargs\n\u001b[0;32m--> 306\u001b[0m     \u001b[39mreturn\u001b[39;00m method(\u001b[39mself\u001b[39;49m, args, kwargs, \u001b[39m*\u001b[39;49m_args, \u001b[39m*\u001b[39;49m\u001b[39m*\u001b[39;49m_kwargs)\n\u001b[1;32m    308\u001b[0m \u001b[39massert\u001b[39;00m \u001b[39m\"\u001b[39m\u001b[39m_ray_trace_ctx\u001b[39m\u001b[39m\"\u001b[39m \u001b[39mnot\u001b[39;00m \u001b[39min\u001b[39;00m kwargs\n\u001b[1;32m    309\u001b[0m tracer \u001b[39m=\u001b[39m _opentelemetry\u001b[39m.\u001b[39mtrace\u001b[39m.\u001b[39mget_tracer(\u001b[39m__name__\u001b[39m)\n",
      "File \u001b[0;32m~/miniconda/envs/sci-data/lib/python3.9/site-packages/ray/remote_function.py:422\u001b[0m, in \u001b[0;36mRemoteFunction._remote\u001b[0;34m(self, args, kwargs, **task_options)\u001b[0m\n\u001b[1;32m    419\u001b[0m \u001b[39mif\u001b[39;00m \u001b[39mself\u001b[39m\u001b[39m.\u001b[39m_decorator \u001b[39mis\u001b[39;00m \u001b[39mnot\u001b[39;00m \u001b[39mNone\u001b[39;00m:\n\u001b[1;32m    420\u001b[0m     invocation \u001b[39m=\u001b[39m \u001b[39mself\u001b[39m\u001b[39m.\u001b[39m_decorator(invocation)\n\u001b[0;32m--> 422\u001b[0m \u001b[39mreturn\u001b[39;00m invocation(args, kwargs)\n",
      "File \u001b[0;32m~/miniconda/envs/sci-data/lib/python3.9/site-packages/ray/remote_function.py:391\u001b[0m, in \u001b[0;36mRemoteFunction._remote.<locals>.invocation\u001b[0;34m(args, kwargs)\u001b[0m\n\u001b[1;32m    387\u001b[0m \u001b[39mif\u001b[39;00m worker\u001b[39m.\u001b[39mmode \u001b[39m==\u001b[39m ray\u001b[39m.\u001b[39m_private\u001b[39m.\u001b[39mworker\u001b[39m.\u001b[39mLOCAL_MODE:\n\u001b[1;32m    388\u001b[0m     \u001b[39massert\u001b[39;00m (\n\u001b[1;32m    389\u001b[0m         \u001b[39mnot\u001b[39;00m \u001b[39mself\u001b[39m\u001b[39m.\u001b[39m_is_cross_language\n\u001b[1;32m    390\u001b[0m     ), \u001b[39m\"\u001b[39m\u001b[39mCross language remote function cannot be executed locally.\u001b[39m\u001b[39m\"\u001b[39m\n\u001b[0;32m--> 391\u001b[0m object_refs \u001b[39m=\u001b[39m worker\u001b[39m.\u001b[39;49mcore_worker\u001b[39m.\u001b[39;49msubmit_task(\n\u001b[1;32m    392\u001b[0m     \u001b[39mself\u001b[39;49m\u001b[39m.\u001b[39;49m_language,\n\u001b[1;32m    393\u001b[0m     \u001b[39mself\u001b[39;49m\u001b[39m.\u001b[39;49m_function_descriptor,\n\u001b[1;32m    394\u001b[0m     list_args,\n\u001b[1;32m    395\u001b[0m     name \u001b[39mif\u001b[39;49;00m name \u001b[39mis\u001b[39;49;00m \u001b[39mnot\u001b[39;49;00m \u001b[39mNone\u001b[39;49;00m \u001b[39melse\u001b[39;49;00m \u001b[39m\"\u001b[39;49m\u001b[39m\"\u001b[39;49m,\n\u001b[1;32m    396\u001b[0m     num_returns,\n\u001b[1;32m    397\u001b[0m     resources,\n\u001b[1;32m    398\u001b[0m     max_retries,\n\u001b[1;32m    399\u001b[0m     retry_exceptions,\n\u001b[1;32m    400\u001b[0m     retry_exception_allowlist,\n\u001b[1;32m    401\u001b[0m     scheduling_strategy,\n\u001b[1;32m    402\u001b[0m     worker\u001b[39m.\u001b[39;49mdebugger_breakpoint,\n\u001b[1;32m    403\u001b[0m     serialized_runtime_env_info \u001b[39mor\u001b[39;49;00m \u001b[39m\"\u001b[39;49m\u001b[39m{}\u001b[39;49;00m\u001b[39m\"\u001b[39;49m,\n\u001b[1;32m    404\u001b[0m )\n\u001b[1;32m    405\u001b[0m \u001b[39m# Reset worker's debug context from the last \"remote\" command\u001b[39;00m\n\u001b[1;32m    406\u001b[0m \u001b[39m# (which applies only to this .remote call).\u001b[39;00m\n\u001b[1;32m    407\u001b[0m worker\u001b[39m.\u001b[39mdebugger_breakpoint \u001b[39m=\u001b[39m \u001b[39mb\u001b[39m\u001b[39m\"\u001b[39m\u001b[39m\"\u001b[39m\n",
      "File \u001b[0;32mpython/ray/_raylet.pyx:3138\u001b[0m, in \u001b[0;36mray._raylet.CoreWorker.submit_task\u001b[0;34m()\u001b[0m\n",
      "File \u001b[0;32mpython/ray/_raylet.pyx:3142\u001b[0m, in \u001b[0;36mray._raylet.CoreWorker.submit_task\u001b[0;34m()\u001b[0m\n",
      "File \u001b[0;32mpython/ray/_raylet.pyx:640\u001b[0m, in \u001b[0;36mray._raylet.prepare_args_and_increment_put_refs\u001b[0;34m()\u001b[0m\n",
      "File \u001b[0;32mpython/ray/_raylet.pyx:734\u001b[0m, in \u001b[0;36mray._raylet.prepare_args_internal\u001b[0;34m()\u001b[0m\n",
      "File \u001b[0;32mpython/ray/_raylet.pyx:2931\u001b[0m, in \u001b[0;36mray._raylet.CoreWorker.put_serialized_object_and_increment_local_ref\u001b[0;34m()\u001b[0m\n",
      "\u001b[0;31mKeyboardInterrupt\u001b[0m: "
     ]
    }
   ],
   "source": [
    "import pandas as pd\n",
    "import ray\n",
    "\n",
    "RESAMPLE_S = {\n",
    "    'ACC_AXX': 0.25,\n",
    "    'ACC_AXY': 0.25,\n",
    "    'ACC_AXZ': 0.25,\n",
    "    'ACC_MAG': 0.25,\n",
    "    'EDA': 0.5,\n",
    "}\n",
    "\n",
    "@ray.remote\n",
    "def segment_data(pcode, sensor_data, label_data):\n",
    "    user_data = {sensor_type: data.loc[pcode] for sensor_type, data in sensor_data.items()}\n",
    "\n",
    "    # Convert user_data index to DatetimeIndex if necessary\n",
    "    for sensor_type, data in user_data.items():\n",
    "        if not isinstance(data.index, pd.DatetimeIndex):\n",
    "            data.index = pd.to_datetime(data.index)\n",
    "\n",
    "    user_labels = label_data.loc[pcode]\n",
    "\n",
    "    # Ensure user_labels is a DataFrame\n",
    "    if isinstance(user_labels, pd.Series):\n",
    "        user_labels = user_labels.to_frame().T\n",
    "\n",
    "    labeled_sequences = []\n",
    "    unlabeled_sequences = []\n",
    "\n",
    "    # Iterate over every minute in the user data\n",
    "    for time, row in user_data[list(user_data.keys())[0]].resample('T').dropna().iterrows():  # 'T' for minute\n",
    "        sequences = {sensor_type: data.loc[time:time + pd.Timedelta(minutes=1)] for sensor_type, data in user_data.items()}\n",
    "\n",
    "        # Check if there is a label for this exact time\n",
    "        if time in user_labels.index:\n",
    "            label_row = user_labels.loc[time]\n",
    "\n",
    "            # Extend the label for the duration specified\n",
    "            if not pd.isna(label_row['duration']):\n",
    "                end_time = time + pd.Timedelta(minutes=int(label_row['duration']))\n",
    "                sequences = {sensor_type: data.loc[time:end_time] for sensor_type, data in user_data.items()}\n",
    "        \n",
    "        # Check if sequence falls within any label's duration\n",
    "        overlapping_labels = user_labels[(user_labels.index < time) & \n",
    "                                         (user_labels.index + pd.Timedelta(minutes=user_labels['duration']) > time)]\n",
    "        if not overlapping_labels.empty:\n",
    "            label = overlapping_labels.iloc[-1]['label']  # Use the most recent label\n",
    "            labeled_sequences.append((sequences, label))\n",
    "        else:\n",
    "            unlabeled_sequences.append(sequences)\n",
    "\n",
    "    return labeled_sequences, unlabeled_sequences\n",
    "\n",
    "\n",
    "with on_ray():\n",
    "\n",
    "    # Replace DATA and LABELS_PROC with your actual data\n",
    "    segmented_data = []\n",
    "    for sensor_type, sensor_data in DATA.items():\n",
    "        segmented_data.extend(ray.get([segment_data.remote(pcode, sensor_data, LABELS_PROC) \n",
    "                                    for pcode in LABELS_PROC.index.get_level_values('pcode').unique()]))\n",
    "\n",
    "    # Gathering labeled and unlabeled sequences\n",
    "    labeled_sequences = [(sequences, label) for labeled_sequences, _ in segmented_data for sequences, label in labeled_sequences]\n",
    "    unlabeled_sequences = [sequences for _, unlabeled_sequences in segmented_data for sequences in unlabeled_sequences]\n",
    "\n",
    "    # Concatenate sequences into dataframes\n",
    "    labeled_df = pd.concat([pd.concat(list(sequences.values()), axis=1) for sequences, _ in labeled_sequences], ignore_index=True)\n",
    "    unlabeled_df = pd.concat([pd.concat(list(sequences.values()), axis=1) for sequences in unlabeled_sequences], ignore_index=True)"
   ]
  }
 ],
 "metadata": {
  "kernelspec": {
   "display_name": "sci-data",
   "language": "python",
   "name": "python3"
  },
  "language_info": {
   "codemirror_mode": {
    "name": "ipython",
    "version": 3
   },
   "file_extension": ".py",
   "mimetype": "text/x-python",
   "name": "python",
   "nbconvert_exporter": "python",
   "pygments_lexer": "ipython3",
   "version": "3.9.15"
  }
 },
 "nbformat": 4,
 "nbformat_minor": 2
}
